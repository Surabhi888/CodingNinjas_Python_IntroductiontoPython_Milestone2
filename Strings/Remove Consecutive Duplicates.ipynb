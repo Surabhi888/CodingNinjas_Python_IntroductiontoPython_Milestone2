{
 "cells": [
  {
   "cell_type": "code",
   "execution_count": null,
   "metadata": {},
   "outputs": [],
   "source": [
    "s = input()\n",
    "s = s+\" \"\n",
    "for i in range(len(s)-1):\n",
    "    if s[i] != s[i+1]:\n",
    "        print(s[i], end=\"\")"
   ]
  }
 ],
 "metadata": {
  "language_info": {
   "name": "python"
  },
  "orig_nbformat": 4
 },
 "nbformat": 4,
 "nbformat_minor": 2
}
