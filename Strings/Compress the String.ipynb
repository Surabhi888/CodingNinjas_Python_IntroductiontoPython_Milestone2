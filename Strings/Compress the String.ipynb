{
 "cells": [
  {
   "cell_type": "code",
   "execution_count": null,
   "metadata": {},
   "outputs": [],
   "source": [
    "def solve(s):\n",
    "       bs = \"\"\n",
    "   count = 1\n",
    "   for i in range(1,len(s)):\n",
    "      if s[i - 1] == s[i]:\n",
    "         count += 1\n",
    "      else:\n",
    "         bs = bs + s[i - 1]\n",
    "         if count > 1:\n",
    "            bs += str(count)\n",
    "         count = 1\n",
    "   bs = bs + s[-1]\n",
    "   if count > 1:\n",
    "      bs += str(count)\n",
    "   return bs\n",
    "\n",
    "s = input()\n",
    "print(solve(s))"
   ]
  }
 ],
 "metadata": {
  "language_info": {
   "name": "python"
  },
  "orig_nbformat": 4
 },
 "nbformat": 4,
 "nbformat_minor": 2
}
