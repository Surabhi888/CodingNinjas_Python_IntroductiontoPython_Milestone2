{
 "cells": [
  {
   "cell_type": "code",
   "execution_count": null,
   "metadata": {},
   "outputs": [],
   "source": [
    "def isPalindrome(s):\n",
    "      return s == s[::-1]\n",
    "\n",
    "\n",
    "# Driver code\n",
    "s = input()\n",
    "ans = isPalindrome(s)\n",
    "\n",
    "if ans:\n",
    "  print(\"true\")\n",
    "else:\n",
    "  print(\"false\")"
   ]
  }
 ],
 "metadata": {
  "language_info": {
   "name": "python"
  },
  "orig_nbformat": 4
 },
 "nbformat": 4,
 "nbformat_minor": 2
}
