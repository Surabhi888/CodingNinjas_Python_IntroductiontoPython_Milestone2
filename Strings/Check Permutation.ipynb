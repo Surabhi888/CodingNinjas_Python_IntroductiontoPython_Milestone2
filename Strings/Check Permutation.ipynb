{
 "cells": [
  {
   "cell_type": "code",
   "execution_count": null,
   "metadata": {},
   "outputs": [],
   "source": [
    "from sys import stdin\n",
    "def arePermutation(str1, str2):\n",
    "    \n",
    "    n1 = len(str1) \n",
    "    n2 = len(str2)\n",
    "    if (n1 != n2):\n",
    "        return False\n",
    "  \n",
    "    # Sort both strings \n",
    "    a = sorted(str1) \n",
    "    str1 = \"\".join(a) \n",
    "    b = sorted(str2) \n",
    "    str2 = \"\".join(b) \n",
    "  \n",
    "    # Compare sorted strings \n",
    "    for i in range(0, n1, 1): \n",
    "        if (str1[i] != str2[i]): \n",
    "            return False\n",
    "  \n",
    "    return True\n",
    "  \n",
    "str1 = stdin.readline().strip();\n",
    "str2 = stdin.readline().strip();\n",
    "if (arePermutation(str1, str2)):\n",
    "    print(\"true\") \n",
    "else: \n",
    "    print(\"false\") "
   ]
  }
 ],
 "metadata": {
  "language_info": {
   "name": "python"
  },
  "orig_nbformat": 4
 },
 "nbformat": 4,
 "nbformat_minor": 2
}
