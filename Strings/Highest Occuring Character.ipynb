{
 "cells": [
  {
   "cell_type": "code",
   "execution_count": null,
   "metadata": {},
   "outputs": [],
   "source": [
    "string=input()\n",
    "\n",
    "\n",
    "char_freq={}\n",
    "\n",
    "for i in string:\n",
    "    if i in char_freq:\n",
    "        char_freq[i]=char_freq[i]+1\n",
    "    else:\n",
    "        char_freq[i] = 1\n",
    "result= max(char_freq, key = char_freq.get)\n",
    "\n",
    "print(result)"
   ]
  }
 ],
 "metadata": {
  "language_info": {
   "name": "python"
  },
  "orig_nbformat": 4
 },
 "nbformat": 4,
 "nbformat_minor": 2
}
