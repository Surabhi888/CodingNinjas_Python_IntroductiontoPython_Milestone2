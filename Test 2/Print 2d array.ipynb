{
 "cells": [
  {
   "cell_type": "code",
   "execution_count": null,
   "metadata": {},
   "outputs": [],
   "source": [
    "def print2DArray(mat, rows, cols):\n",
    "    k=rows\n",
    "    for i in range(rows):\n",
    "        for l in range(k-1, -1, -1):\n",
    "            for j in range(cols):\n",
    "                print(mat[i][j], end=\" \")\n",
    "            print()\n",
    "        k-=1\n",
    "mat=[]\n",
    "l1=input().strip().split()\n",
    "rows=int(li[0])\n",
    "cols=int(li[1])\n",
    "for i in range(rows):\n",
    "    row=[int(elem) for elem in list(input().strip().split())]\n",
    "    mat.append(row)\n",
    "print2DArray(mat, rows, cols)"
   ]
  }
 ],
 "metadata": {
  "language_info": {
   "name": "python"
  },
  "orig_nbformat": 4
 },
 "nbformat": 4,
 "nbformat_minor": 2
}
