{
 "cells": [
  {
   "cell_type": "code",
   "execution_count": null,
   "metadata": {},
   "outputs": [],
   "source": [
    "n=int(input())\n",
    "l=list(map(int,input().split()))\n",
    "ma=l[-1]\n",
    "l=l[::-1]\n",
    "k=[l[0]]\n",
    "for i in range(1,n):\n",
    "    if l[i]>=ma:\n",
    "        ma=l[i]\n",
    "        k.append(l[i])\n",
    "k=k[::-1]\n",
    "print(*k)    "
   ]
  }
 ],
 "metadata": {
  "language_info": {
   "name": "python"
  },
  "orig_nbformat": 4
 },
 "nbformat": 4,
 "nbformat_minor": 2
}
