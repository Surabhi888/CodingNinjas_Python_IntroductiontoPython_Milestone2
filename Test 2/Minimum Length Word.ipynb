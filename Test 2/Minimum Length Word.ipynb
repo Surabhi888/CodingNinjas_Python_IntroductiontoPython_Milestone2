{
 "cells": [
  {
   "cell_type": "code",
   "execution_count": null,
   "metadata": {},
   "outputs": [],
   "source": [
    "s=input().split()\n",
    "l=[]\n",
    "for i in s:\n",
    "    l.append(len(i))\n",
    "print(s[l.index(min(l))])"
   ]
  }
 ],
 "metadata": {
  "language_info": {
   "name": "python"
  },
  "orig_nbformat": 4
 },
 "nbformat": 4,
 "nbformat_minor": 2
}
