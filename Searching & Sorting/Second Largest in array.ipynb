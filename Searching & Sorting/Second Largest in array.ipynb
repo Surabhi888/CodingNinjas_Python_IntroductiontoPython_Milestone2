{
 "cells": [
  {
   "cell_type": "code",
   "execution_count": null,
   "metadata": {},
   "outputs": [],
   "source": [
    "# Take Minimum value as MIN_VALUE = -2147483648\n",
    "from sys import stdin\n",
    "MIN_VALUE = -2147483648\n",
    "\n",
    "def secondLargestElement(arr, n):\n",
    "    if n == 0 : \n",
    "        return MIN_VALUE\n",
    "    largest = arr[0] \n",
    "    secondLargest = MIN_VALUE \n",
    "    for i in range(n) : \n",
    "        if largest < arr[i] : \n",
    "            secondLargest = largest \n",
    "            largest = arr[i]\n",
    "        elif secondLargest < arr[i] and arr[i] != largest :\n",
    "            secondLargest = arr[i] \n",
    "    return secondLargest \n",
    "    #Your code goes here\n",
    "\n",
    "#Taking Input Using Fast I/O\n",
    "def takeInput() :\n",
    "    n = int(stdin.readline().rstrip())\n",
    "    if n != 0:\n",
    "        arr = list(map(int, stdin.readline().rstrip().split(\" \")))\n",
    "        return arr, n\n",
    "\n",
    "    return list(), 0\n",
    "\n",
    "\n",
    "\n",
    "#main\n",
    "t = int(stdin.readline().rstrip())\n",
    "\n",
    "while t > 0 : \n",
    "    \n",
    "    arr, n = takeInput()\n",
    "    print(secondLargestElement(arr, n))\n",
    "\n",
    "    t -= 1"
   ]
  }
 ],
 "metadata": {
  "language_info": {
   "name": "python"
  },
  "orig_nbformat": 4
 },
 "nbformat": 4,
 "nbformat_minor": 2
}
