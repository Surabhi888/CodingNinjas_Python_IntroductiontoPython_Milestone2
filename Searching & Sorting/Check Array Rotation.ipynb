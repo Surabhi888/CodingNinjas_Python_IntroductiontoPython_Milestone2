{
 "cells": [
  {
   "cell_type": "code",
   "execution_count": null,
   "metadata": {},
   "outputs": [],
   "source": [
    "\n",
    "from sys import stdin\n",
    "\n",
    "def arrayRotateCheck(arr, n):\n",
    "    for i in range(n - 1):\n",
    "        if(arr[i] > arr[i + 1]):\n",
    "            return (i + 1) \n",
    "    return 0 \n",
    "    #Your code goes here\n",
    "\n",
    "\n",
    "#Taking Input Using Fast I/O\n",
    "def takeInput() :\n",
    "    n = int(stdin.readline().rstrip())\n",
    "    if n == 0:\n",
    "        return list(), 0\n",
    "\n",
    "    arr = list(map(int, stdin.readline().rstrip().split(\" \")))\n",
    "    return arr, n\n",
    "\n",
    "\n",
    "#main\n",
    "t = int(stdin.readline().rstrip())\n",
    "\n",
    "while t > 0 :\n",
    "\n",
    "    arr, n = takeInput()\n",
    "    print(arrayRotateCheck(arr, n))\n",
    "\n",
    "    t -= 1"
   ]
  }
 ],
 "metadata": {
  "language_info": {
   "name": "python"
  },
  "orig_nbformat": 4
 },
 "nbformat": 4,
 "nbformat_minor": 2
}
