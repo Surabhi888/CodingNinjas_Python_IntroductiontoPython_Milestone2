{
 "cells": [
  {
   "cell_type": "code",
   "execution_count": null,
   "metadata": {},
   "outputs": [],
   "source": [
    "from sys import stdin\n",
    "\n",
    "def bubbleSort(arr, n) :\n",
    "    for i in range(n - 1) :\n",
    "        for j in range(n - i - 1) :\n",
    "            if arr[j] > arr[j+1] :\n",
    "                temp = arr[j] \n",
    "                arr[j] = arr[j + 1]\n",
    "                arr[j + 1] = temp "
   ]
  }
 ],
 "metadata": {
  "language_info": {
   "name": "python"
  },
  "orig_nbformat": 4
 },
 "nbformat": 4,
 "nbformat_minor": 2
}
