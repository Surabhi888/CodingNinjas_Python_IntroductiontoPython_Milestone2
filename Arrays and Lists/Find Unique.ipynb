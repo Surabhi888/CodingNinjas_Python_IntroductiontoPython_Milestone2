{
 "cells": [
  {
   "cell_type": "code",
   "execution_count": 1,
   "metadata": {},
   "outputs": [
    {
     "name": "stdout",
     "output_type": "stream",
     "text": [
      "too low\n"
     ]
    }
   ],
   "source": [
    "import sys\n",
    "\n",
    "def findUnique(arr, n) :\n",
    "    for i in range(n) :\n",
    "        j = 0\n",
    "        while j < n :\n",
    "            if i != j :\n",
    "                if arr[i] == arr[j] :\n",
    "                    break\n",
    "            j += 1\n",
    "        if j == n : \n",
    "            return arr[i]\n",
    "    \n",
    "    #Your code goes here\n",
    "\n",
    "\n",
    "#Taking Input Using Fast I/O\n",
    "def takeInput() :\n",
    "    n = int(sys.stdin.readline().rstrip())\n",
    "\n",
    "    if n == 0 :\n",
    "        return list(), 0\n",
    "\n",
    "    arr = list(map(int, sys.stdin.readline().rstrip().split(\" \")))\n",
    "    return arr, n\n",
    "\n",
    "\n",
    "#main\n",
    "t = int(sys.stdin.readline().rstrip())\n",
    "\n",
    "while t > 0 :\n",
    "\n",
    "    arr, n = takeInput()\n",
    "    print(findUnique(arr, n))\n",
    "\n",
    "    t -= 1"
   ]
  },
  {
   "cell_type": "code",
   "execution_count": null,
   "metadata": {},
   "outputs": [],
   "source": []
  }
 ],
 "metadata": {
  "kernelspec": {
   "display_name": "Python 3",
   "language": "python",
   "name": "python3"
  },
  "language_info": {
   "codemirror_mode": {
    "name": "ipython",
    "version": 3
   },
   "file_extension": ".py",
   "mimetype": "text/x-python",
   "name": "python",
   "nbconvert_exporter": "python",
   "pygments_lexer": "ipython3",
   "version": "3.10.6"
  },
  "orig_nbformat": 4
 },
 "nbformat": 4,
 "nbformat_minor": 2
}
