{
 "cells": [
  {
   "cell_type": "code",
   "execution_count": null,
   "metadata": {},
   "outputs": [],
   "source": [
    "from sys import stdin\n",
    "\n",
    "def sortZeroesAndOne(arr, n) :\n",
    "    a = 0 \n",
    "    for i in range(n) : \n",
    "        if arr[i] == 0 :\n",
    "            temp = arr[a] \n",
    "            arr[a] = arr[i]\n",
    "            arr[i] = temp \n",
    "            a += 1 \n",
    "    #Your code goes here \n",
    "\n",
    "#Taking Input Using Fast I/O\n",
    "def takeInput() :\n",
    "    n = int(stdin.readline().strip())\n",
    "\n",
    "    if n == 0 :\n",
    "        return list(), 0\n",
    "\n",
    "    \n",
    "    arr = list(map(int, stdin.readline().strip().split(\" \")))\n",
    "    return arr, n\n",
    "\n",
    "\n",
    "def printList(arr, n) :\n",
    "    for i in range(n) :\n",
    "        print(arr[i], end = ' ')\n",
    "    print()\n",
    "\n",
    "\n",
    "#main\n",
    "t = int(stdin.readline().strip())\n",
    "\n",
    "while t > 0 :\n",
    "    \n",
    "    arr, n = takeInput()\n",
    "    sortZeroesAndOne(arr, n)\n",
    "    printList(arr, n)\n",
    "    print()\n",
    "\n",
    "    t -= 1"
   ]
  }
 ],
 "metadata": {
  "language_info": {
   "name": "python"
  },
  "orig_nbformat": 4
 },
 "nbformat": 4,
 "nbformat_minor": 2
}
